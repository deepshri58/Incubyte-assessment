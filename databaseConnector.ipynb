{
 "cells": [
  {
   "cell_type": "code",
   "execution_count": 2,
   "id": "e263a80f",
   "metadata": {},
   "outputs": [],
   "source": [
    "import cx_Oracle\n",
    "import pandas as pd\n"
   ]
  },
  {
   "cell_type": "code",
   "execution_count": 7,
   "id": "9c74285c",
   "metadata": {},
   "outputs": [
    {
     "ename": "DatabaseError",
     "evalue": "ORA-01017: invalid username/password; logon denied",
     "output_type": "error",
     "traceback": [
      "\u001b[1;31m---------------------------------------------------------------------------\u001b[0m",
      "\u001b[1;31mDatabaseError\u001b[0m                             Traceback (most recent call last)",
      "\u001b[1;32m<ipython-input-7-6b6a30b97e53>\u001b[0m in \u001b[0;36m<module>\u001b[1;34m\u001b[0m\n\u001b[1;32m----> 1\u001b[1;33m \u001b[0mcon\u001b[0m\u001b[1;33m=\u001b[0m\u001b[0mcx_Oracle\u001b[0m\u001b[1;33m.\u001b[0m\u001b[0mconnect\u001b[0m\u001b[1;33m(\u001b[0m\u001b[1;34m'system/1234@127.0.0.1/XE'\u001b[0m\u001b[1;33m)\u001b[0m\u001b[1;33m\u001b[0m\u001b[1;33m\u001b[0m\u001b[0m\n\u001b[0m\u001b[0;32m      2\u001b[0m \u001b[1;32mif\u001b[0m \u001b[0mcon\u001b[0m\u001b[1;33m!=\u001b[0m\u001b[1;32mNone\u001b[0m\u001b[1;33m:\u001b[0m\u001b[1;33m\u001b[0m\u001b[1;33m\u001b[0m\u001b[0m\n\u001b[0;32m      3\u001b[0m     \u001b[0mprint\u001b[0m\u001b[1;33m(\u001b[0m\u001b[0mcon\u001b[0m\u001b[1;33m.\u001b[0m\u001b[0mversion\u001b[0m\u001b[1;33m)\u001b[0m\u001b[1;33m\u001b[0m\u001b[1;33m\u001b[0m\u001b[0m\n\u001b[0;32m      4\u001b[0m     \u001b[0mprint\u001b[0m\u001b[1;33m(\u001b[0m\u001b[1;34m\"connection done\"\u001b[0m\u001b[1;33m)\u001b[0m\u001b[1;33m\u001b[0m\u001b[1;33m\u001b[0m\u001b[0m\n\u001b[0;32m      5\u001b[0m \u001b[1;32melse\u001b[0m\u001b[1;33m:\u001b[0m\u001b[1;33m\u001b[0m\u001b[1;33m\u001b[0m\u001b[0m\n",
      "\u001b[1;31mDatabaseError\u001b[0m: ORA-01017: invalid username/password; logon denied"
     ]
    }
   ],
   "source": [
    "con=cx_Oracle.connect('system/1234@127.0.0.1/XE')\n",
    "if con!=None:\n",
    "    print(con.version)\n",
    "    print(\"connection done\")\n",
    "else:\n",
    "    print(\"not done\")\n",
    "    "
   ]
  },
  {
   "cell_type": "code",
   "execution_count": 4,
   "id": "ef6ee075",
   "metadata": {},
   "outputs": [
    {
     "data": {
      "text/plain": [
       "<cx_Oracle.Cursor on <cx_Oracle.Connection to system@127.0.0.1/XE>>"
      ]
     },
     "execution_count": 4,
     "metadata": {},
     "output_type": "execute_result"
    }
   ],
   "source": [
    "cur=con.cursor()\n",
    "query='''select * from patients'''\n",
    "cur.execute(query)"
   ]
  },
  {
   "cell_type": "code",
   "execution_count": 5,
   "id": "10569cc9",
   "metadata": {},
   "outputs": [
    {
     "name": "stdout",
     "output_type": "stream",
     "text": [
      "    CUST_ID       NAME  OPEN_DATE CONSULT_DT VAC_ID DR_NAME  STATE COUNTRY  \\\n",
      "0    123457       Alex 2010-10-12 2012-10-13  MVD      paul  SA        USA   \n",
      "1    123458       john 2010-10-12 2012-10-13  MVD      None  TN        IND   \n",
      "2    123459     Mathew 2010-10-12 2012-10-13  MVD      None  WAS      PHIL   \n",
      "3     12345       Matt 2010-10-12 2012-10-13  MVD      None  BOS       NYC   \n",
      "4      1256      Jacob 2010-10-12 2012-10-13  MVD      None  VIC        AU   \n",
      "5    123468     Sharda 2010-10-12 2012-10-13  MVD      paul  SA        USA   \n",
      "6    123489      Divya 2010-10-12 2012-10-13  MVD      None  TN        IND   \n",
      "7    123499      Dipak 2010-10-12 2012-10-13  MVD      None  WAS      PHIL   \n",
      "8     12355     Chhaya 2010-10-12 2012-10-13  MVD      None  BOS       NYC   \n",
      "9      1257      Nivya 2010-10-12 2012-10-13  MVD      None  VIC        AU   \n",
      "10   123557      Suraj 2010-10-12 2012-10-13  MVD      paul  SA        USA   \n",
      "11   123558    Saurabh 2010-10-12 2012-10-13  MVD      None  TN        IND   \n",
      "12   123559     Sakshi 2010-10-12 2012-10-13  MVD      None  WAS      PHIL   \n",
      "13    12445      Meera 2010-10-12 2012-10-13  MVD      None  BOS       NYC   \n",
      "14     1266     Abhaya 2010-10-12 2012-10-13  MVD      None  VIC        AU   \n",
      "15   133557     Snehal 2010-10-12 2012-10-13  MVD      paul  SA        USA   \n",
      "16   133558    Prakash 2010-10-12 2012-10-13  MVD      None  TN        IND   \n",
      "17   133559    Sharada 2010-10-12 2012-10-13  MVD      None  WAS      PHIL   \n",
      "18    13445     Rutuja 2010-10-12 2012-10-13  MVD      None  BOS       NYC   \n",
      "19     1366      Pooja 2010-10-12 2012-10-13  MVD      None  VIC        AU   \n",
      "\n",
      "          DOB ACTIVE  \n",
      "0  1980-10-13    A    \n",
      "1  1988-10-17    A    \n",
      "2  1981-11-13    A    \n",
      "3  1980-10-23    A    \n",
      "4  1987-03-06    A    \n",
      "5  1990-10-13    A    \n",
      "6  1998-10-17    A    \n",
      "7  1991-11-13    A    \n",
      "8  1990-10-23    A    \n",
      "9  1997-03-06    A    \n",
      "10 1990-10-13    A    \n",
      "11 1998-10-17    A    \n",
      "12 1991-11-13    A    \n",
      "13 1990-10-23    A    \n",
      "14 1997-03-06    A    \n",
      "15 1990-10-13    A    \n",
      "16 1998-10-17    A    \n",
      "17 1991-11-13    A    \n",
      "18 1990-10-23    A    \n",
      "19 1997-03-06    A    \n"
     ]
    }
   ],
   "source": [
    "table_rows=cur.fetchall()\n",
    "df=pd.read_sql('select * from patients', con=con)\n",
    "df.to_csv(\"patients.csv\")\n",
    "\n",
    "print(df) \n"
   ]
  },
  {
   "cell_type": "code",
   "execution_count": 59,
   "id": "b6da0119",
   "metadata": {},
   "outputs": [],
   "source": [
    "df.set_index(['CUST_ID'], inplace=True)  \n",
    "\n",
    "ans = df.loc[df['COUNTRY'] == \"IND\"]"
   ]
  },
  {
   "cell_type": "code",
   "execution_count": 60,
   "id": "0e4fe8c5",
   "metadata": {},
   "outputs": [],
   "source": [
    "def show_data(country):\n",
    "    data = df.loc[df['COUNTRY'] == country]\n",
    "    print(data)"
   ]
  },
  {
   "cell_type": "code",
   "execution_count": 61,
   "id": "49e4ed27",
   "metadata": {},
   "outputs": [],
   "source": [
    "def get_file(country):\n",
    "    data = df.loc[df['COUNTRY'] == country]\n",
    "    file_name = str(country)\n",
    "    data.to_csv(country + \".csv\")\n",
    "    print(\"File has been created to the specified path\")"
   ]
  },
  {
   "cell_type": "code",
   "execution_count": 62,
   "id": "03a85b0d",
   "metadata": {},
   "outputs": [
    {
     "name": "stdout",
     "output_type": "stream",
     "text": [
      "           NAME  OPEN_DATE CONSULT_DT VAC_ID DR_NAME  STATE COUNTRY  \\\n",
      "CUST_ID                                                               \n",
      "1256      Jacob 2010-10-12 2012-10-13  MVD      None  VIC        AU   \n",
      "1257      Nivya 2010-10-12 2012-10-13  MVD      None  VIC        AU   \n",
      "1266     Abhaya 2010-10-12 2012-10-13  MVD      None  VIC        AU   \n",
      "1366      Pooja 2010-10-12 2012-10-13  MVD      None  VIC        AU   \n",
      "\n",
      "               DOB ACTIVE  \n",
      "CUST_ID                    \n",
      "1256    1987-03-06    A    \n",
      "1257    1997-03-06    A    \n",
      "1266    1997-03-06    A    \n",
      "1366    1997-03-06    A    \n",
      "File has been created to the specified path\n"
     ]
    }
   ],
   "source": [
    "show_data(\"AU\")\n",
    "get_file(\"AU\")"
   ]
  },
  {
   "cell_type": "code",
   "execution_count": 63,
   "id": "985ec558",
   "metadata": {},
   "outputs": [
    {
     "name": "stdout",
     "output_type": "stream",
     "text": [
      "              NAME  OPEN_DATE CONSULT_DT VAC_ID DR_NAME  STATE COUNTRY  \\\n",
      "CUST_ID                                                                  \n",
      "123457        Alex 2010-10-12 2012-10-13  MVD      paul  SA        USA   \n",
      "123468   Aishwarya 2010-10-12 2012-10-13  MVD      paul  SA        USA   \n",
      "123557       Suraj 2010-10-12 2012-10-13  MVD      paul  SA        USA   \n",
      "133557      Snehal 2010-10-12 2012-10-13  MVD      paul  SA        USA   \n",
      "\n",
      "               DOB ACTIVE  \n",
      "CUST_ID                    \n",
      "123457  1980-10-13    A    \n",
      "123468  1990-10-13    A    \n",
      "123557  1990-10-13    A    \n",
      "133557  1990-10-13    A    \n",
      "File has been created to the specified path\n"
     ]
    }
   ],
   "source": [
    "show_data(\"USA\")\n",
    "get_file(\"USA\")"
   ]
  },
  {
   "cell_type": "code",
   "execution_count": 64,
   "id": "0660ed35",
   "metadata": {},
   "outputs": [
    {
     "name": "stdout",
     "output_type": "stream",
     "text": [
      "            NAME  OPEN_DATE CONSULT_DT VAC_ID DR_NAME  STATE COUNTRY  \\\n",
      "CUST_ID                                                                \n",
      "123459    Mathew 2010-10-12 2012-10-13  MVD      None  WAS      PHIL   \n",
      "123499     Dipak 2010-10-12 2012-10-13  MVD      None  WAS      PHIL   \n",
      "123559    Sakshi 2010-10-12 2012-10-13  MVD      None  WAS      PHIL   \n",
      "133559   Sharada 2010-10-12 2012-10-13  MVD      None  WAS      PHIL   \n",
      "\n",
      "               DOB ACTIVE  \n",
      "CUST_ID                    \n",
      "123459  1981-11-13    A    \n",
      "123499  1991-11-13    A    \n",
      "123559  1991-11-13    A    \n",
      "133559  1991-11-13    A    \n",
      "File has been created to the specified path\n"
     ]
    }
   ],
   "source": [
    "show_data(\"PHIL\")\n",
    "get_file(\"PHIL\")"
   ]
  },
  {
   "cell_type": "code",
   "execution_count": 65,
   "id": "f28c0c16",
   "metadata": {},
   "outputs": [
    {
     "name": "stdout",
     "output_type": "stream",
     "text": [
      "           NAME  OPEN_DATE CONSULT_DT VAC_ID DR_NAME  STATE COUNTRY  \\\n",
      "CUST_ID                                                               \n",
      "12345      Matt 2010-10-12 2012-10-13  MVD      None  BOS       NYC   \n",
      "12355    Chhaya 2010-10-12 2012-10-13  MVD      None  BOS       NYC   \n",
      "12445     Meera 2010-10-12 2012-10-13  MVD      None  BOS       NYC   \n",
      "13445    Rutuja 2010-10-12 2012-10-13  MVD      None  BOS       NYC   \n",
      "\n",
      "               DOB ACTIVE  \n",
      "CUST_ID                    \n",
      "12345   1980-10-23    A    \n",
      "12355   1990-10-23    A    \n",
      "12445   1990-10-23    A    \n",
      "13445   1990-10-23    A    \n",
      "File has been created to the specified path\n"
     ]
    }
   ],
   "source": [
    "show_data(\"NYC\")\n",
    "get_file(\"NYC\")"
   ]
  },
  {
   "cell_type": "code",
   "execution_count": 66,
   "id": "7586b5a0",
   "metadata": {},
   "outputs": [
    {
     "name": "stdout",
     "output_type": "stream",
     "text": [
      "            NAME  OPEN_DATE CONSULT_DT VAC_ID DR_NAME  STATE COUNTRY  \\\n",
      "CUST_ID                                                                \n",
      "123458      john 2010-10-12 2012-10-13  MVD      None  TN        IND   \n",
      "123489     Divya 2010-10-12 2012-10-13  MVD      None  TN        IND   \n",
      "123558   Saurabh 2010-10-12 2012-10-13  MVD      None  TN        IND   \n",
      "133558   Prakash 2010-10-12 2012-10-13  MVD      None  TN        IND   \n",
      "\n",
      "               DOB ACTIVE  \n",
      "CUST_ID                    \n",
      "123458  1988-10-17    A    \n",
      "123489  1998-10-17    A    \n",
      "123558  1998-10-17    A    \n",
      "133558  1998-10-17    A    \n",
      "File has been created to the specified path\n"
     ]
    }
   ],
   "source": [
    "show_data(\"IND\")\n",
    "get_file(\"IND\")"
   ]
  },
  {
   "cell_type": "code",
   "execution_count": null,
   "id": "da801dd4",
   "metadata": {},
   "outputs": [],
   "source": []
  },
  {
   "cell_type": "code",
   "execution_count": null,
   "id": "b46bcd9b",
   "metadata": {},
   "outputs": [],
   "source": []
  }
 ],
 "metadata": {
  "kernelspec": {
   "display_name": "Python 3",
   "language": "python",
   "name": "python3"
  },
  "language_info": {
   "codemirror_mode": {
    "name": "ipython",
    "version": 3
   },
   "file_extension": ".py",
   "mimetype": "text/x-python",
   "name": "python",
   "nbconvert_exporter": "python",
   "pygments_lexer": "ipython3",
   "version": "3.8.8"
  }
 },
 "nbformat": 4,
 "nbformat_minor": 5
}
